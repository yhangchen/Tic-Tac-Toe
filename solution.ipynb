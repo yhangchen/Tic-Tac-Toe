{
 "cells": [
  {
   "cell_type": "code",
   "execution_count": null,
   "metadata": {},
   "outputs": [],
   "source": [
    "import numpy as np\n",
    "import matplotlib.pyplot as plt\n",
    "from tic_env import *"
   ]
  },
  {
   "cell_type": "markdown",
   "metadata": {},
   "source": [
    "### Question 1"
   ]
  },
  {
   "cell_type": "code",
   "execution_count": null,
   "metadata": {},
   "outputs": [],
   "source": [
    "Turns = np.array(['X','O'])\n",
    "player1 = QPlayer(epsilon=0.2, player=Turns[0])\n",
    "player2 = OptimalPlayer(epsilon=0.5, player=Turns[1])\n",
    "env1 = QlearningEnv(player1=player1, player2=player2)\n",
    "env1.train(20000)"
   ]
  },
  {
   "cell_type": "code",
   "execution_count": null,
   "metadata": {},
   "outputs": [],
   "source": [
    "length1=250\n",
    "lst1 = env1.get_reward(player=1)\n",
    "x_ticks = range(0, len(lst1), length1)\n",
    "avg_reward1 = []\n",
    "for i in range(len(lst1)//length1):\n",
    "    avg_reward1.append(sum(lst1[i*length1:(i+1)*length1])/length1)\n",
    "plt.plot(x_ticks, avg_reward1)\n",
    "plt.xlabel(f'games')\n",
    "plt.ylabel('avg reward')"
   ]
  },
  {
   "cell_type": "markdown",
   "metadata": {},
   "source": [
    "### Question 2"
   ]
  },
  {
   "cell_type": "code",
   "execution_count": null,
   "metadata": {},
   "outputs": [],
   "source": [
    "Turns = np.array(['X','O'])\n",
    "training_reward_lists = []\n",
    "epoch_stars = [1, 10000, 20000, 30000, 40000]\n",
    "for epoch_star in epoch_stars:\n",
    "    player1 = QPlayer(epsilon=0.2, player=Turns[0])\n",
    "    player2 = OptimalPlayer(epsilon=0.5, player=Turns[1])\n",
    "    env2 = QlearningEnv(player1=player1, player2=player2)\n",
    "    env2.set_decay_eps(epoch_star=epoch_star)\n",
    "    env2.train(20000)\n",
    "    training_reward_lists.append(env2.get_reward(player=1))"
   ]
  },
  {
   "cell_type": "code",
   "execution_count": null,
   "metadata": {},
   "outputs": [],
   "source": [
    "length1=250\n",
    "x_ticks = range(0, len(training_reward_lists[0]), length1)\n",
    "for j in range(len(epoch_stars)):\n",
    "    avg_reward1 = []\n",
    "    for i in range(len(training_reward_lists[0])//length1):\n",
    "        avg_reward1.append(sum(training_reward_lists[j][i*length1:(i+1)*length1])/length1)\n",
    "    plt.plot(x_ticks, avg_reward1, label=str(epoch_stars[j]))\n",
    "    plt.xlabel(f'games')\n",
    "    plt.ylabel('avg reward')\n",
    "plt.legend()"
   ]
  },
  {
   "cell_type": "markdown",
   "metadata": {},
   "source": [
    "### Question 3"
   ]
  },
  {
   "cell_type": "code",
   "execution_count": null,
   "metadata": {},
   "outputs": [],
   "source": [
    "Turns = np.array(['X','O'])\n",
    "test_reward_lists_random = []\n",
    "test_reward_lists_optimal = []\n",
    "epoch_stars = [1, 10000, 20000, 30000, 40000]\n",
    "for epoch_star in epoch_stars:\n",
    "    player1 = QPlayer(epsilon=0.2, player=Turns[0])\n",
    "    player2 = OptimalPlayer(epsilon=0.5, player=Turns[1])\n",
    "    env3 = QlearningEnv(player1=player1, player2=player2)\n",
    "    env3.set_decay_eps(epoch_star=epoch_star)\n",
    "    env3.set_testing()\n",
    "    env3.train(20000)\n",
    "    test_reward_lists_random.append(env3.test_avg_reward['random'])\n",
    "    test_reward_lists_optimal.append(env3.test_avg_reward['optimal'])"
   ]
  },
  {
   "cell_type": "code",
   "execution_count": null,
   "metadata": {},
   "outputs": [],
   "source": [
    "# M_rand\n",
    "for j in range(len(epoch_stars)):\n",
    "    plt.plot(test_reward_lists_random[j], label=str(epoch_stars[j]))\n",
    "    plt.xlabel(f'tests')\n",
    "    plt.ylabel('Mrand')\n",
    "plt.legend()"
   ]
  },
  {
   "cell_type": "code",
   "execution_count": null,
   "metadata": {},
   "outputs": [],
   "source": [
    "# M_opt\n",
    "for j in range(len(epoch_stars)):\n",
    "    plt.plot(test_reward_lists_optimal[j], label=str(epoch_stars[j]))\n",
    "    plt.xlabel(f'tests')\n",
    "    plt.ylabel('Mopt')\n",
    "plt.legend()"
   ]
  },
  {
   "cell_type": "markdown",
   "metadata": {},
   "source": [
    "### Question 4"
   ]
  },
  {
   "cell_type": "code",
   "execution_count": null,
   "metadata": {},
   "outputs": [],
   "source": [
    "Turns = np.array(['X','O'])\n",
    "best_epoch_star = 10000\n",
    "test_reward_lists_random = []\n",
    "test_reward_lists_optimal = []\n",
    "test_epses = [0.0]\n",
    "for test_eps in test_epses:\n",
    "    player1 = QPlayer(epsilon=0.2, player=Turns[0])\n",
    "    player2 = OptimalPlayer(epsilon=0.5, player=Turns[1])\n",
    "    env3 = QlearningEnv(player1=player1, player2=player2)\n",
    "    env3.set_decay_eps(epoch_star=best_epoch_star)\n",
    "    env3.set_testing(test_eps=test_eps)\n",
    "    env3.train(20000)\n",
    "    test_reward_lists_random.append(env3.test_avg_reward['random'])\n",
    "    test_reward_lists_optimal.append(env3.test_avg_reward['optimal'])"
   ]
  },
  {
   "cell_type": "code",
   "execution_count": null,
   "metadata": {},
   "outputs": [],
   "source": [
    "# M_rand\n",
    "for j in range(len(test_epses)):\n",
    "    plt.plot(test_reward_lists_random[j], label=str(test_epses[j]))\n",
    "    plt.xlabel(f'tests')\n",
    "    plt.ylabel('Mrand')\n",
    "plt.legend()"
   ]
  },
  {
   "cell_type": "code",
   "execution_count": null,
   "metadata": {},
   "outputs": [],
   "source": [
    "# M_opt\n",
    "for j in range(len(test_epses)):\n",
    "    plt.plot(test_reward_lists_optimal[j], label=str(test_epses[j]))\n",
    "    plt.xlabel(f'tests')\n",
    "    plt.ylabel('Mopt')\n",
    "plt.legend()"
   ]
  }
 ],
 "metadata": {
  "interpreter": {
   "hash": "db666ba5cfc1e6b340ffb8c99ac64e84d1885a4fc4ce42ed4b6eb0071bb1085a"
  },
  "kernelspec": {
   "display_name": "Python 3.8.5 ('base')",
   "language": "python",
   "name": "python3"
  },
  "language_info": {
   "codemirror_mode": {
    "name": "ipython",
    "version": 3
   },
   "file_extension": ".py",
   "mimetype": "text/x-python",
   "name": "python",
   "nbconvert_exporter": "python",
   "pygments_lexer": "ipython3",
   "version": "3.8.5"
  },
  "orig_nbformat": 4
 },
 "nbformat": 4,
 "nbformat_minor": 2
}
