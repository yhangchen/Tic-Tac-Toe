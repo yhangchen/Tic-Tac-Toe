{
  "nbformat": 4,
  "nbformat_minor": 0,
  "metadata": {
    "colab": {
      "name": "solution2.ipynb",
      "provenance": [],
      "collapsed_sections": [
        "y417PxiUdOGc"
      ],
      "toc_visible": true
    },
    "kernelspec": {
      "name": "python3",
      "display_name": "Python 3"
    },
    "language_info": {
      "name": "python"
    }
  },
  "cells": [
    {
      "cell_type": "code",
      "source": [
        "ls"
      ],
      "metadata": {
        "colab": {
          "base_uri": "https://localhost:8080/"
        },
        "id": "RlJ0kO9S6zB8",
        "outputId": "66987dd2-7201-417a-a80d-06c9e8c72d7f"
      },
      "execution_count": 43,
      "outputs": [
        {
          "output_type": "stream",
          "name": "stdout",
          "text": [
            "\u001b[0m\u001b[01;34m__pycache__\u001b[0m/  \u001b[01;34msample_data\u001b[0m/  tic_env.py\n"
          ]
        }
      ]
    },
    {
      "cell_type": "code",
      "source": [
        "def whose_grid(g, player):\n",
        "    '''\n",
        "    g is a grid matrix of 3 x 3\n",
        "    player : X for me, O for oppenent\n",
        "    '''\n",
        "    if player == 'X':\n",
        "        color = 1\n",
        "    else:\n",
        "        color = -1\n",
        "\n",
        "    res = torch.zeros(g.shape)\n",
        "    for x in range(g.shape[0]):\n",
        "        for y in range(g.shape[1]):\n",
        "            if g[x][y] == color:\n",
        "                res[x][y] = color\n",
        "            else:\n",
        "                res[x][y] = 0\n",
        "\n",
        "    return res\n",
        "    "
      ],
      "metadata": {
        "id": "kNAiX_TIUmar"
      },
      "execution_count": 76,
      "outputs": []
    },
    {
      "cell_type": "code",
      "source": [
        "def a_to_pos(a):\n",
        "    '''\n",
        "    a : int [0,8]\n",
        "    '''\n",
        "    if a < 3:\n",
        "        return (0,a)\n",
        "    elif a < 6:\n",
        "        return (1, a-3)\n",
        "    else:\n",
        "        return (2, a-6)"
      ],
      "metadata": {
        "id": "WMpKTmeOKH2c"
      },
      "execution_count": 79,
      "outputs": []
    },
    {
      "cell_type": "code",
      "execution_count": 180,
      "metadata": {
        "id": "4Jar5h616k-L"
      },
      "outputs": [],
      "source": [
        "import torch\n",
        "import torch.nn as nn\n",
        "import torch.nn.functional as F\n",
        "import numpy as np\n",
        "from tic_env import TictactoeEnv, OptimalPlayer\n",
        "\n",
        "# Hyper Parameters\n",
        "BATCH_SIZE = 64\n",
        "LR = 5e-4                  # learning rate\n",
        "# EPSILON = 0.9               # greedy policy\n",
        "GAMMA = 0.99                 # reward discount\n",
        "TARGET_REPLACE_ITER = 500   # target update frequency\n",
        "MEMORY_CAPACITY = 10000\n",
        "N_ACTIONS = 9\n",
        "N_STATES = 9 * 2\n",
        "# ENV_A_SHAPE = 0 if isinstance(env.action_space.sample(), int) else env.action_space.sample().shape     # to confirm the shape\n",
        "\n",
        "\n",
        "class Net(nn.Module):\n",
        "    def __init__(self, ):\n",
        "        super(Net, self).__init__()\n",
        "        self.layer1 = nn.Linear(N_STATES, 128)\n",
        "        self.layer2 = nn.Linear(128, 128)\n",
        "        self.out = nn.Linear(128, N_ACTIONS)\n",
        "\n",
        "    def forward(self, x):\n",
        "        x = self.layer1(x)\n",
        "        x = F.relu(x)\n",
        "        x = self.layer2(x)\n",
        "        x = F.relu(x)\n",
        "        x = self.out(x)\n",
        "        # actions_value = F.softmax(x, dim=1)\n",
        "        return x\n",
        "\n",
        "\n",
        "class DQN(object):\n",
        "    def __init__(self, epsilon=0.9, player='X'):\n",
        "        self.eval_net, self.target_net = Net(), Net()\n",
        "        self.epsilon = epsilon\n",
        "        self.learn_step_counter = 0                                     # for target updating\n",
        "        self.memory_counter = 0                                         # for storing memory\n",
        "        self.memory = torch.zeros((MEMORY_CAPACITY, N_STATES*2 + 2))     # initialize memory\n",
        "        self.optimizer = torch.optim.Adam(self.eval_net.parameters(), lr=LR)\n",
        "        self.loss_func = nn.MSELoss()\n",
        "        self.player = player\n",
        "        self.loss = []\n",
        "\n",
        "    def act(self, x):\n",
        "        # x = torch.unsqueeze(torch.FloatTensor(x), 0)\n",
        "        x = x.view(1, -1)\n",
        "        # input only one sample\n",
        "        if np.random.uniform() < self.epsilon:   # greedy\n",
        "            actions_value = self.eval_net.forward(x)\n",
        "            # print(\"actions_value\")\n",
        "            # print(actions_value)\n",
        "            action = int(actions_value.argmax())\n",
        "        else:   # random\n",
        "            action = np.random.randint(0, N_ACTIONS)\n",
        "        return action\n",
        "\n",
        "    def store_transition(self, s, a, r, s_):\n",
        "        s = s.view(1, -1)\n",
        "        s_ = s_.view(1, -1)\n",
        "        a_r = torch.Tensor([a, r]).view(1, -1)\n",
        "        transition = torch.hstack((s, a_r, s_))\n",
        "        # replace the old memory with new memory\n",
        "        index = self.memory_counter % MEMORY_CAPACITY\n",
        "        self.memory[index, :] = transition\n",
        "        self.memory_counter += 1\n",
        "        # print(\"mm :\" + str(self.))\n",
        "\n",
        "    def learn(self):\n",
        "        # target parameter update\n",
        "        if self.learn_step_counter % TARGET_REPLACE_ITER == 0:\n",
        "            self.target_net.load_state_dict(self.eval_net.state_dict())\n",
        "        self.learn_step_counter += 1\n",
        "\n",
        "        # sample batch transitions\n",
        "        sample_index = np.random.choice(MEMORY_CAPACITY, BATCH_SIZE)\n",
        "        b_memory = self.memory[sample_index, :]\n",
        "        # print(\"mm\")\n",
        "        # print(self.memory[-1,:])\n",
        "        b_s = torch.Tensor(b_memory[:, :N_STATES])\n",
        "        b_a = torch.LongTensor(b_memory[:, N_STATES:N_STATES+1].long())\n",
        "        b_r = torch.Tensor(b_memory[:, N_STATES+1:N_STATES+2])\n",
        "        b_s_ = torch.Tensor(b_memory[:, -N_STATES:])\n",
        "\n",
        "        # q_eval w.r.t the action in experience\n",
        "        q_eval = self.eval_net(b_s).gather(1, b_a)  # shape (batch, 1)\n",
        "        # print(q_eval)\n",
        "        q_next = self.target_net(b_s_).detach()     # detach from graph, don't backpropagate\n",
        "        q_target = b_r + GAMMA * q_next.max(1)[0].view(BATCH_SIZE, 1)   # shape (batch, 1)\n",
        "        loss = self.loss_func(q_eval, q_target)\n",
        "        # print(\"loss :\" + str(loss))\n",
        "        self.loss.append(loss.item())\n",
        "        \n",
        "\n",
        "        self.optimizer.zero_grad()\n",
        "        loss.backward()\n",
        "        self.optimizer.step()"
      ]
    },
    {
      "cell_type": "markdown",
      "source": [
        "## For text"
      ],
      "metadata": {
        "id": "y417PxiUdOGc"
      }
    },
    {
      "cell_type": "code",
      "source": [
        "dqn = DQN()\n",
        "env = TictactoeEnv()\n",
        "\n",
        "print('\\nCollecting experience...')\n",
        "for i_game in range(10000):\n",
        "    ## reset game\n",
        "    grid, end, winner = env.reset()\n",
        "    \n",
        "    s_t = torch.zeros((2, 3, 3))\n",
        "    ep_r = 0\n",
        "    while True:\n",
        "        # Show chess board\n",
        "        # env.render()\n",
        "\n",
        "        # Update state\n",
        "        a = dqn.act(s_t)\n",
        "        \n",
        "        # Dectect avaliablity\n",
        "        pos_x, pos_y = a_to_pos(a)\n",
        "        grid, _, _ = env.observe()\n",
        "        if grid[pos_x][pos_y] != 0:\n",
        "            r = -1\n",
        "            ep_r += r\n",
        "            dqn.store_transition(s_t, a, r, s_next)\n",
        "            if dqn.memory_counter > MEMORY_CAPACITY:\n",
        "                dqn.learn()\n",
        "            continue\n",
        "\n",
        "        # print(pos_x, pos_y)\n",
        "\n",
        "        # take action\n",
        "        grid_next, end, winner = env.step(a)\n",
        "        grid_mine = whose_grid(grid_next, 'X')\n",
        "        grid_opp = whose_grid(grid_next, 'O')\n",
        "        s_next = torch.stack((grid_mine, grid_opp), axis=0)\n",
        "\n",
        "        # update the reward\n",
        "        r1 = env.reward(player='X')\n",
        "        r2 = env.reward(player='O')\n",
        "        r = r1 + r2\n",
        "\n",
        "        dqn.store_transition(s_t, a, r, s_next)\n",
        "\n",
        "        ep_r += r\n",
        "        if dqn.memory_counter > MEMORY_CAPACITY:\n",
        "            dqn.learn()\n",
        "            # if end:\n",
        "            #     print('Ep: ', i_game,\n",
        "            #           '| Ep_r: ', round(ep_r, 2))\n",
        "\n",
        "        if end:\n",
        "            # print('Ep: ', i_game,'| Ep_r: ', ep_r)\n",
        "            break\n",
        "        s_t = s_next\n",
        "\n",
        "x = np.arange(0, len(dqn.loss))\n",
        "y = dqn.loss\n",
        "plt.plot(x, y)"
      ],
      "metadata": {
        "colab": {
          "base_uri": "https://localhost:8080/",
          "height": 317
        },
        "id": "FkletOs9dNPU",
        "outputId": "32f3e503-6d67-4103-d9f1-f2e778ab43da"
      },
      "execution_count": 173,
      "outputs": [
        {
          "output_type": "stream",
          "name": "stdout",
          "text": [
            "\n",
            "Collecting experience...\n"
          ]
        },
        {
          "output_type": "execute_result",
          "data": {
            "text/plain": [
              "[<matplotlib.lines.Line2D at 0x7f74a1fc7350>]"
            ]
          },
          "metadata": {},
          "execution_count": 173
        },
        {
          "output_type": "display_data",
          "data": {
            "text/plain": [
              "<Figure size 432x288 with 1 Axes>"
            ],
            "image/png": "[encoded data removed]"
          },
          "metadata": {
            "needs_background": "light"
          }
        }
      ]
    },
    {
      "cell_type": "markdown",
      "source": [
        "## Question 11"
      ],
      "metadata": {
        "id": "dVXF4F3UdezT"
      }
    },
    {
      "cell_type": "code",
      "source": [
        "env = TictactoeEnv()\n",
        "\n",
        "Turns = np.array(['X','O'])\n",
        "player_opt_1 = DQN(epsilon=0.9, player=Turns[0])\n",
        "for i in range(20000):\n",
        "    env.reset()\n",
        "    grid, _, __ = env.observe()\n",
        "    # initialize state\n",
        "    s_t = torch.zeros((2, 3, 3))\n",
        "    # Turns = Turns[np.random.permutation(2)]\n",
        "    # player_opt_1 = DQN(epsilon=0., player=Turns[0])\n",
        "    player_opt_2 = OptimalPlayer(epsilon=0.5, player=Turns[1])\n",
        "    ep_r = 0\n",
        "    for j in range(9):\n",
        "        if env.current_player == player_opt_1.player:\n",
        "            move = player_opt_1.act(s_t)\n",
        "            # dectect if this move is available\n",
        "            pos_x, pos_y = a_to_pos(move)\n",
        "            grid, _, _ = env.observe()\n",
        "            if grid[pos_x][pos_y] != 0:\n",
        "                r = -1\n",
        "                winner = Turns[1]\n",
        "                # ep_r += r\n",
        "                # s_next = s_t\n",
        "                # player_opt_1.store_transition(s_t, move, r, s_next)\n",
        "                # if player_opt_1.memory_counter > MEMORY_CAPACITY:\n",
        "                #     player_opt_1.learn()\n",
        "                # continue\n",
        "\n",
        "                # print('-------------------------------------------')\n",
        "                # print(\"ep_r:  \" + str(ep_r))\n",
        "                # print('Game end, winner is player ' + str(winner))\n",
        "                # print('Optimal player 1 = ' +  Turns[0])\n",
        "                # print('Optimal player 2 = ' +  Turns[1])\n",
        "                # env.render()\n",
        "                env.reset()\n",
        "                break\n",
        "\n",
        "        else:\n",
        "            move = player_opt_2.act(grid)\n",
        "            a_x, a_y = move\n",
        "            move = int(a_x) * 3 + int(a_y)\n",
        "\n",
        "        # Move\n",
        "        grid, end, winner = env.step(move, print_grid=False)\n",
        "        grid_mine = whose_grid(grid_next, Turns[0])\n",
        "        grid_opp = whose_grid(grid_next, Turns[1])\n",
        "        s_next = torch.stack((grid_mine, grid_opp), axis=0)\n",
        "\n",
        "\n",
        "        # update the reward\n",
        "        r1 = env.reward(player=Turns[0])\n",
        "        # r2 = env.reward(player=Turns[1])\n",
        "        # r = r1 + r2\n",
        "        r = r1\n",
        "\n",
        "        # print(\"move:\")\n",
        "        # print(move)\n",
        "        player_opt_1.store_transition(s_t, move, r, s_next)\n",
        "\n",
        "        # ep_r += r\n",
        "        if player_opt_1.memory_counter > MEMORY_CAPACITY:\n",
        "            player_opt_1.learn()\n",
        "\n",
        "        if end:\n",
        "            \n",
        "            # print('-------------------------------------------')\n",
        "            # print(\"ep_r:  \" + str(ep_r))\n",
        "            # print('Game end, winner is player ' + str(winner))\n",
        "            # print('Optimal player 1 = ' +  Turns[0])\n",
        "            # print('Optimal player 2 = ' +  Turns[1])\n",
        "            # env.render()\n",
        "            env.reset()\n",
        "            break\n",
        "        \n",
        "        s_t = s_next\n",
        "\n",
        "import matplotlib.pyplot as plt \n",
        "x = np.arange(0, len(player_opt_1.loss))\n",
        "y = player_opt_1.loss\n",
        "plt.plot(x, y)"
      ],
      "metadata": {
        "colab": {
          "base_uri": "https://localhost:8080/",
          "height": 282
        },
        "id": "ZZuXO74FYNTV",
        "outputId": "c1ab057e-d7e9-4bce-8a1c-f52d825d8504"
      },
      "execution_count": 183,
      "outputs": [
        {
          "output_type": "execute_result",
          "data": {
            "text/plain": [
              "[<matplotlib.lines.Line2D at 0x7f749e3d8190>]"
            ]
          },
          "metadata": {},
          "execution_count": 183
        },
        {
          "output_type": "display_data",
          "data": {
            "text/plain": [
              "<Figure size 432x288 with 1 Axes>"
            ],
            "image/png": "[encoded data removed]"
          },
          "metadata": {
            "needs_background": "light"
          }
        }
      ]
    },
    {
      "cell_type": "code",
      "source": [
        ""
      ],
      "metadata": {
        "id": "g29WYKzSrsGx"
      },
      "execution_count": null,
      "outputs": []
    }
  ]
}